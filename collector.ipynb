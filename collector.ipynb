{
 "cells": [
  {
   "cell_type": "code",
   "execution_count": null,
   "metadata": {},
   "outputs": [],
   "source": [
    "import yt_api\n",
    "from datetime import datetime, timedelta\n",
    "import pandas as pd"
   ]
  },
  {
   "cell_type": "code",
   "execution_count": null,
   "metadata": {},
   "outputs": [],
   "source": [
    "keyNum = 1\n",
    "api =yt_api.youtubeAPI(keyNum)"
   ]
  },
  {
   "cell_type": "code",
   "execution_count": null,
   "metadata": {},
   "outputs": [],
   "source": [
    "# Define the search query, max results, and start date\n",
    "search_query = \"Foreigner try filipino food\"  # Your search query\n",
    "max_results = 50  # Maximum results per query\n",
    "start_date = datetime(2018, 8, 1)  # Start date\n",
    "# Define the end date\n",
    "end_date = datetime(2018, 8, 30)\n",
    "# Create a time delta\n",
    "delta = timedelta(days=10)"
   ]
  },
  {
   "cell_type": "code",
   "execution_count": null,
   "metadata": {},
   "outputs": [],
   "source": [
    "all_videos = pd.DataFrame()\n",
    "all_comments = pd.DataFrame()"
   ]
  },
  {
   "cell_type": "code",
   "execution_count": null,
   "metadata": {},
   "outputs": [],
   "source": [
    "while start_date <= end_date:\n",
    "    # Convert dates to the required format (ISO 8601)\n",
    "    published_after = start_date.strftime(\"%Y-%m-%dT%H:%M:%SZ\")\n",
    "    next_date = start_date + delta\n",
    "    published_before = next_date.strftime(\"%Y-%m-%dT%H:%M:%SZ\")\n",
    "    print(f\"---Collecting data for {search_query} for Dates {published_after} to {published_before}....\")\n",
    "    # Call the search_vids function with the current date range\n",
    "    try:\n",
    "        response = api.get_vid_details_from_search(search_query, max_results, published_after, published_before)\n",
    "    except Exception as e:\n",
    "        print(f\"Error in search: {e}... trying another api key\")\n",
    "        api = yt_api.youtubeAPI(keyNum+1)\n",
    "        response = api.get_vid_details_from_search(search_query, max_results, published_after, published_before)\n",
    "\n",
    "    temp = api.video_stats_to_dataframe(response)\n",
    "    all_videos = pd.concat([all_videos,temp])\n",
    "    vidIds = temp['videoId'].to_list()\n",
    "    print(f\"Collecting comments for: {vidIds}....\")\n",
    "    try:\n",
    "        comment_list = api.get_comments_from_videos(vidIds)\n",
    "    except Exception as e:\n",
    "        print(f\"Error here in get comments {e}..changing api key\")\n",
    "        api = yt_api.youtubeAPI(keyNum+1)\n",
    "        comment_list = api.get_comments_from_videos(temp['videoId'].to_list())\n",
    "\n",
    "    comments_df = pd.DataFrame(comment_list)\n",
    "    all_comments = pd.concat([all_comments,comments_df])\n",
    "    # Move to the next delta interval\n",
    "    start_date = next_date"
   ]
  },
  {
   "cell_type": "code",
   "execution_count": null,
   "metadata": {},
   "outputs": [],
   "source": [
    "all_videos.to_csv(\"videos_reacts_01-2018.csv\",index=False)\n",
    "all_comments.to_csv(\"comments_reacts_01-2018.csv\",index=False)"
   ]
  },
  {
   "cell_type": "markdown",
   "metadata": {},
   "source": [
    "## Filter Videos"
   ]
  },
  {
   "cell_type": "code",
   "execution_count": null,
   "metadata": {},
   "outputs": [],
   "source": [
    "# Function to check if a channel is from the Philippines\n",
    "def is_philippine_channel(channel_id):\n",
    "    try:\n",
    "        channel_info = api.channels().list(\n",
    "            part='snippet',\n",
    "            id=channel_id\n",
    "        ).execute()\n",
    "        \n",
    "        country = channel_info['items'][0]['snippet']['country']\n",
    "        \n",
    "        return country == 'PH'  # 'PH' is the country code for the Philippines\n",
    "    except Exception as e:\n",
    "        print(f\"Error checking channel {channel_id}: {str(e)}\")\n",
    "        return False"
   ]
  },
  {
   "cell_type": "code",
   "execution_count": null,
   "metadata": {},
   "outputs": [],
   "source": [
    "def has_relevant_terms(video_id, relevant_terms):\n",
    "    try:\n",
    "        video_info = api.videos().list(\n",
    "            part='snippet',\n",
    "            id=video_id\n",
    "        ).execute()\n",
    "        \n",
    "        snippet = video_info['items'][0]['snippet']\n",
    "        \n",
    "        # Check if the video title, description, or keywords contain relevant terms\n",
    "        title = snippet.get('title', '').lower()\n",
    "        description = snippet.get('description', '').lower()\n",
    "        tags = [tag.lower() for tag in snippet.get('tags', [])]\n",
    "        \n",
    "        return any(term in title or term in description or term in tags for term in relevant_terms)\n",
    "    except Exception as e:\n",
    "        print(f\"Error checking video {video_id}: {str(e)}\")\n",
    "        return False"
   ]
  },
  {
   "cell_type": "code",
   "execution_count": null,
   "metadata": {},
   "outputs": [],
   "source": [
    "csv_file = \"\""
   ]
  },
  {
   "cell_type": "code",
   "execution_count": null,
   "metadata": {},
   "outputs": [],
   "source": [
    "df = pd.read_csv(csv_file)\n",
    "\n",
    "# Define relevant terms related to the Philippines, including Tagalog words\n",
    "relevant_terms = ['philippines', 'pinoy', 'tagalog', 'filipino', 'manila', 'filipina', 'pinas']\n",
    "\n",
    "# Filter out channels that are not from the Philippines and videos with relevant terms\n",
    "df['is_philippine'] = df['channelId'].apply(is_philippine_channel)\n",
    "df['has_relevant_terms'] = df['videoId'].apply(lambda video_id: has_relevant_terms(video_id, relevant_terms))\n",
    "\n",
    "filtered_df = df[(df['is_philippine'] == False) & (df['has_relevant_terms'] == True)]\n",
    "\n",
    "# Save the filtered DataFrame to a new CSV file\n",
    "output_csv = f'output_{csv_file}'  # Replace with the desired output file path\n",
    "filtered_df.to_csv(output_csv, index=False)\n",
    "\n",
    "print(f\"Filtered channels and videos saved to {output_csv}\")"
   ]
  }
 ],
 "metadata": {
  "language_info": {
   "name": "python"
  }
 },
 "nbformat": 4,
 "nbformat_minor": 2
}
