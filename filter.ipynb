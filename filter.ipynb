{
 "cells": [
  {
   "cell_type": "code",
   "execution_count": null,
   "metadata": {},
   "outputs": [],
   "source": [
    "# Function to check if a channel is from the Philippines\n",
    "def is_philippine_channel(channel_id):\n",
    "    try:\n",
    "        channel_info = api.channels().list(\n",
    "            part='snippet',\n",
    "            id=channel_id\n",
    "        ).execute()\n",
    "        \n",
    "        country = channel_info['items'][0]['snippet']['country']\n",
    "        \n",
    "        return country == 'PH'  # 'PH' is the country code for the Philippines\n",
    "    except Exception as e:\n",
    "        print(f\"Error checking channel {channel_id}: {str(e)}\")\n",
    "        return False"
   ]
  },
  {
   "cell_type": "code",
   "execution_count": null,
   "metadata": {},
   "outputs": [],
   "source": [
    "# Function to check if a channel is from the Philippines\n",
    "def is_philippine_channel(channel_id):\n",
    "    try:\n",
    "        channel_info = api.channels().list(\n",
    "            part='snippet',\n",
    "            id=channel_id\n",
    "        ).execute()\n",
    "        \n",
    "        country = channel_info['items'][0]['snippet']['country']\n",
    "        \n",
    "        return country == 'PH'  # 'PH' is the country code for the Philippines\n",
    "    except Exception as e:\n",
    "        print(f\"Error checking channel {channel_id}: {str(e)}\")\n",
    "        return False"
   ]
  },
  {
   "cell_type": "code",
   "execution_count": null,
   "metadata": {},
   "outputs": [],
   "source": [
    "csv_file = \"\""
   ]
  },
  {
   "cell_type": "code",
   "execution_count": null,
   "metadata": {},
   "outputs": [],
   "source": [
    "df = pd.read_csv(csv_file)\n",
    "\n",
    "# Define relevant terms related to the Philippines, including Tagalog words\n",
    "relevant_terms = ['philippines', 'pinoy', 'tagalog', 'filipino', 'manila', 'filipina', 'pinas']\n",
    "\n",
    "# Filter out channels that are not from the Philippines and videos with relevant terms\n",
    "df['is_philippine'] = df['channelId'].apply(is_philippine_channel)\n",
    "df['has_relevant_terms'] = df['videoId'].apply(lambda video_id: has_relevant_terms(video_id, relevant_terms))\n",
    "\n",
    "filtered_df = df[(df['is_philippine'] == False) & (df['has_relevant_terms'] == True)]\n",
    "\n",
    "# Save the filtered DataFrame to a new CSV file\n",
    "output_csv = f'output_{csv_file}'  # Replace with the desired output file path\n",
    "filtered_df.to_csv(output_csv, index=False)\n",
    "\n",
    "print(f\"Filtered channels and videos saved to {output_csv}\")"
   ]
  }
 ],
 "metadata": {
  "language_info": {
   "name": "python"
  }
 },
 "nbformat": 4,
 "nbformat_minor": 2
}
